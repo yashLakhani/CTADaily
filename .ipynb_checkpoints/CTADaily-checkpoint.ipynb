{
 "cells": [
  {
   "cell_type": "markdown",
   "metadata": {},
   "source": [
    "# Setup"
   ]
  },
  {
   "cell_type": "markdown",
   "metadata": {},
   "source": [
    "If you haven't already please install mallet. As that will be required to run the following notebook. There is also a back up alterative lda model we will allow usage of (LDA Multicore). This can be used by passing a different argument."
   ]
  },
  {
   "cell_type": "markdown",
   "metadata": {},
   "source": [
    "### Pre Processing"
   ]
  },
  {
   "cell_type": "code",
   "execution_count": 2,
   "metadata": {},
   "outputs": [],
   "source": [
    "# import nltk\n",
    "# nltk.download('stopwords')\n",
    "# nltk.download('wordnet')"
   ]
  },
  {
   "cell_type": "markdown",
   "metadata": {},
   "source": [
    "We have filtered all news headlines from Reuters from 2014 to 2016 by checking for the occurence of the word 'oil'. We then aggregate file corpus into a line corpus, provided as a CSV file ('oil_news.csv'). We have functions in our Python script that will read this in and perform the following pre-processing steps:\n",
    "\n",
    "- Remove Stop Words (NLTK) \n",
    "- Lower Case (Gensim) \n",
    "- Remove Punctuation (Gensim) \n",
    "- Remove Numbers (Gensim) \n",
    "- Stemmed/Lemmatized (NLTK) \n",
    "\n",
    "After this we use the bag of words approach and build up a corpus of pre-processed documents. This is all done by invoking the get_text_data() method."
   ]
  },
  {
   "cell_type": "code",
   "execution_count": 6,
   "metadata": {},
   "outputs": [],
   "source": [
    "from CTADaily import get_text_data\n",
    "text_df, dictionary, corpus = get_text_data('WTI-NEWS.csv', 'Headline')"
   ]
  },
  {
   "cell_type": "code",
   "execution_count": 7,
   "metadata": {},
   "outputs": [
    {
     "data": {
      "text/html": [
       "<div>\n",
       "<style scoped>\n",
       "    .dataframe tbody tr th:only-of-type {\n",
       "        vertical-align: middle;\n",
       "    }\n",
       "\n",
       "    .dataframe tbody tr th {\n",
       "        vertical-align: top;\n",
       "    }\n",
       "\n",
       "    .dataframe thead th {\n",
       "        text-align: right;\n",
       "    }\n",
       "</style>\n",
       "<table border=\"1\" class=\"dataframe\">\n",
       "  <thead>\n",
       "    <tr style=\"text-align: right;\">\n",
       "      <th></th>\n",
       "      <th>Date</th>\n",
       "      <th>Headline</th>\n",
       "    </tr>\n",
       "  </thead>\n",
       "  <tbody>\n",
       "    <tr>\n",
       "      <th>0</th>\n",
       "      <td>2014-01-02</td>\n",
       "      <td>[brazil, oleo, gas, say, honor, oil, field, debt]</td>\n",
       "    </tr>\n",
       "    <tr>\n",
       "      <th>1</th>\n",
       "      <td>2014-01-02</td>\n",
       "      <td>[cabot, oil, gas, corpor, declar, dividend]</td>\n",
       "    </tr>\n",
       "  </tbody>\n",
       "</table>\n",
       "</div>"
      ],
      "text/plain": [
       "         Date                                           Headline\n",
       "0  2014-01-02  [brazil, oleo, gas, say, honor, oil, field, debt]\n",
       "1  2014-01-02        [cabot, oil, gas, corpor, declar, dividend]"
      ]
     },
     "execution_count": 7,
     "metadata": {},
     "output_type": "execute_result"
    }
   ],
   "source": [
    "text_df.head(2)"
   ]
  },
  {
   "cell_type": "markdown",
   "metadata": {},
   "source": [
    "### Building The Model"
   ]
  },
  {
   "cell_type": "code",
   "execution_count": 4,
   "metadata": {},
   "outputs": [],
   "source": [
    "from CTADaily import build_lda_model\n",
    "lda_model = build_lda_model('Mallet', corpus, dictionary, num_topics=20)"
   ]
  },
  {
   "cell_type": "markdown",
   "metadata": {},
   "source": [
    "If you were unable to install Mallet, there is an alternative model type you can use which is the LDA Multicore method from gensim. This can be simply passed into build_lda_model as follows:"
   ]
  },
  {
   "cell_type": "code",
   "execution_count": 5,
   "metadata": {},
   "outputs": [],
   "source": [
    "#lda_model = build_lda_model('Multicore', corpus, id2word, num_topics=20)"
   ]
  },
  {
   "cell_type": "markdown",
   "metadata": {},
   "source": [
    "#### Optimizing Model by Coherence"
   ]
  },
  {
   "cell_type": "code",
   "execution_count": 79,
   "metadata": {},
   "outputs": [
    {
     "name": "stdout",
     "output_type": "stream",
     "text": [
      "0.36782637006277696\n"
     ]
    }
   ],
   "source": [
    "from gensim.models.coherencemodel import CoherenceModel\n",
    "from CTADaily import get_tokens \n",
    "\n",
    "tokens = get_tokens(text_df, 'Headline')\n",
    "\n",
    "cm = CoherenceModel(model=lda_model, corpus=corpus, texts=oil_news_df['Headline'].values.tolist(), coherence='c_v')\n",
    "coherence = cm.get_coherence()\n",
    "print(coherence)"
   ]
  },
  {
   "cell_type": "markdown",
   "metadata": {},
   "source": [
    "We see quite a low coherence value of 0.367 for 20 topics. Let's try to optimise this."
   ]
  },
  {
   "cell_type": "code",
   "execution_count": 1,
   "metadata": {},
   "outputs": [
    {
     "name": "stdout",
     "output_type": "stream",
     "text": [
      "Topic Model with 5 #Topics\n"
     ]
    },
    {
     "ename": "NameError",
     "evalue": "name 'build_lda_model' is not defined",
     "output_type": "error",
     "traceback": [
      "\u001b[1;31m---------------------------------------------------------------------------\u001b[0m",
      "\u001b[1;31mNameError\u001b[0m                                 Traceback (most recent call last)",
      "\u001b[1;32m<ipython-input-1-4f47e6291c68>\u001b[0m in \u001b[0;36m<module>\u001b[1;34m()\u001b[0m\n\u001b[0;32m      4\u001b[0m \u001b[1;32mfor\u001b[0m \u001b[0mi\u001b[0m \u001b[1;32min\u001b[0m \u001b[0mrange\u001b[0m\u001b[1;33m(\u001b[0m\u001b[1;36m5\u001b[0m\u001b[1;33m,\u001b[0m \u001b[1;36m60\u001b[0m\u001b[1;33m,\u001b[0m \u001b[1;36m5\u001b[0m\u001b[1;33m)\u001b[0m\u001b[1;33m:\u001b[0m\u001b[1;33m\u001b[0m\u001b[0m\n\u001b[0;32m      5\u001b[0m     \u001b[0mprint\u001b[0m\u001b[1;33m(\u001b[0m\u001b[1;34m'Topic Model with {} #Topics'\u001b[0m\u001b[1;33m.\u001b[0m\u001b[0mformat\u001b[0m\u001b[1;33m(\u001b[0m\u001b[0mi\u001b[0m\u001b[1;33m)\u001b[0m\u001b[1;33m)\u001b[0m\u001b[1;33m\u001b[0m\u001b[0m\n\u001b[1;32m----> 6\u001b[1;33m     \u001b[0mmodel\u001b[0m \u001b[1;33m=\u001b[0m \u001b[0mbuild_lda_model\u001b[0m\u001b[1;33m(\u001b[0m\u001b[1;34m'Mallet'\u001b[0m\u001b[1;33m,\u001b[0m \u001b[0mcorpus\u001b[0m\u001b[1;33m,\u001b[0m \u001b[0mid2word\u001b[0m\u001b[1;33m,\u001b[0m \u001b[0mnum_topics\u001b[0m\u001b[1;33m=\u001b[0m\u001b[0mi\u001b[0m\u001b[1;33m)\u001b[0m\u001b[1;33m\u001b[0m\u001b[0m\n\u001b[0m\u001b[0;32m      7\u001b[0m     \u001b[0mmodels\u001b[0m\u001b[1;33m.\u001b[0m\u001b[0mappend\u001b[0m\u001b[1;33m(\u001b[0m\u001b[0mmodel\u001b[0m\u001b[1;33m)\u001b[0m\u001b[1;33m\u001b[0m\u001b[0m\n\u001b[0;32m      8\u001b[0m     \u001b[0mcm\u001b[0m \u001b[1;33m=\u001b[0m \u001b[0mCoherenceModel\u001b[0m\u001b[1;33m(\u001b[0m\u001b[0mmodel\u001b[0m\u001b[1;33m=\u001b[0m\u001b[0mlda_model\u001b[0m\u001b[1;33m,\u001b[0m \u001b[0mcorpus\u001b[0m\u001b[1;33m=\u001b[0m\u001b[0mcorpus\u001b[0m\u001b[1;33m,\u001b[0m \u001b[0mtexts\u001b[0m\u001b[1;33m=\u001b[0m\u001b[0moil_news_df\u001b[0m\u001b[1;33m[\u001b[0m\u001b[1;34m'Headline'\u001b[0m\u001b[1;33m]\u001b[0m\u001b[1;33m.\u001b[0m\u001b[0mvalues\u001b[0m\u001b[1;33m.\u001b[0m\u001b[0mtolist\u001b[0m\u001b[1;33m(\u001b[0m\u001b[1;33m)\u001b[0m\u001b[1;33m,\u001b[0m \u001b[0mcoherence\u001b[0m\u001b[1;33m=\u001b[0m\u001b[1;34m'c_v'\u001b[0m\u001b[1;33m)\u001b[0m\u001b[1;33m\u001b[0m\u001b[0m\n",
      "\u001b[1;31mNameError\u001b[0m: name 'build_lda_model' is not defined"
     ]
    }
   ],
   "source": [
    "scores = []\n",
    "models = []\n",
    "\n",
    "for i in range(5, 60, 5):\n",
    "    print('Topic Model with {} #Topics'.format(i))\n",
    "    model = build_lda_model('Mallet', corpus, id2word, num_topics=i)\n",
    "    models.append(model)\n",
    "    cm = CoherenceModel(model=lda_model, corpus=corpus, texts=oil_news_df['Headline'].values.tolist(), coherence='c_v')\n",
    "    coherence = cm.get_coherence()\n",
    "    scores.append(coherence)\n",
    "    print('Coherence: {}'.format(coherence))"
   ]
  },
  {
   "cell_type": "markdown",
   "metadata": {},
   "source": [
    "We will now be able to get the topic distribution for each document. We want to use these probabilities as features for our regression, combined with the date the headline was published by Reuters. We will need to unpack the tuples, to remove the topic number and only give us the probability. We will do this for all columns before merging date."
   ]
  },
  {
   "cell_type": "code",
   "execution_count": 37,
   "metadata": {},
   "outputs": [],
   "source": [
    "topic_dist_df = pandas.DataFrame(lda_model[corpus])\n",
    "\n",
    "for column in topic_dist_df.columns:\n",
    "    topic_dist_df[column] = topic_dist_df[column].apply(lambda x : x[1])"
   ]
  },
  {
   "cell_type": "code",
   "execution_count": 38,
   "metadata": {},
   "outputs": [
    {
     "data": {
      "text/html": [
       "<div>\n",
       "<style scoped>\n",
       "    .dataframe tbody tr th:only-of-type {\n",
       "        vertical-align: middle;\n",
       "    }\n",
       "\n",
       "    .dataframe tbody tr th {\n",
       "        vertical-align: top;\n",
       "    }\n",
       "\n",
       "    .dataframe thead th {\n",
       "        text-align: right;\n",
       "    }\n",
       "</style>\n",
       "<table border=\"1\" class=\"dataframe\">\n",
       "  <thead>\n",
       "    <tr style=\"text-align: right;\">\n",
       "      <th></th>\n",
       "      <th>0</th>\n",
       "      <th>1</th>\n",
       "      <th>2</th>\n",
       "      <th>3</th>\n",
       "      <th>4</th>\n",
       "      <th>5</th>\n",
       "      <th>6</th>\n",
       "      <th>7</th>\n",
       "      <th>8</th>\n",
       "      <th>9</th>\n",
       "      <th>10</th>\n",
       "      <th>11</th>\n",
       "      <th>12</th>\n",
       "      <th>13</th>\n",
       "      <th>14</th>\n",
       "      <th>15</th>\n",
       "      <th>16</th>\n",
       "      <th>17</th>\n",
       "      <th>18</th>\n",
       "      <th>19</th>\n",
       "    </tr>\n",
       "  </thead>\n",
       "  <tbody>\n",
       "    <tr>\n",
       "      <th>0</th>\n",
       "      <td>0.043860</td>\n",
       "      <td>0.045809</td>\n",
       "      <td>0.043860</td>\n",
       "      <td>0.051657</td>\n",
       "      <td>0.043860</td>\n",
       "      <td>0.043860</td>\n",
       "      <td>0.043860</td>\n",
       "      <td>0.078947</td>\n",
       "      <td>0.043860</td>\n",
       "      <td>0.061404</td>\n",
       "      <td>0.049708</td>\n",
       "      <td>0.051657</td>\n",
       "      <td>0.045809</td>\n",
       "      <td>0.057505</td>\n",
       "      <td>0.049708</td>\n",
       "      <td>0.059454</td>\n",
       "      <td>0.049708</td>\n",
       "      <td>0.043860</td>\n",
       "      <td>0.047758</td>\n",
       "      <td>0.043860</td>\n",
       "    </tr>\n",
       "    <tr>\n",
       "      <th>1</th>\n",
       "      <td>0.044643</td>\n",
       "      <td>0.046627</td>\n",
       "      <td>0.046627</td>\n",
       "      <td>0.108135</td>\n",
       "      <td>0.048611</td>\n",
       "      <td>0.044643</td>\n",
       "      <td>0.044643</td>\n",
       "      <td>0.044643</td>\n",
       "      <td>0.044643</td>\n",
       "      <td>0.044643</td>\n",
       "      <td>0.054563</td>\n",
       "      <td>0.044643</td>\n",
       "      <td>0.046627</td>\n",
       "      <td>0.050595</td>\n",
       "      <td>0.044643</td>\n",
       "      <td>0.046627</td>\n",
       "      <td>0.058532</td>\n",
       "      <td>0.046627</td>\n",
       "      <td>0.044643</td>\n",
       "      <td>0.044643</td>\n",
       "    </tr>\n",
       "  </tbody>\n",
       "</table>\n",
       "</div>"
      ],
      "text/plain": [
       "         0         1         2         3         4         5         6   \\\n",
       "0  0.043860  0.045809  0.043860  0.051657  0.043860  0.043860  0.043860   \n",
       "1  0.044643  0.046627  0.046627  0.108135  0.048611  0.044643  0.044643   \n",
       "\n",
       "         7         8         9         10        11        12        13  \\\n",
       "0  0.078947  0.043860  0.061404  0.049708  0.051657  0.045809  0.057505   \n",
       "1  0.044643  0.044643  0.044643  0.054563  0.044643  0.046627  0.050595   \n",
       "\n",
       "         14        15        16        17        18        19  \n",
       "0  0.049708  0.059454  0.049708  0.043860  0.047758  0.043860  \n",
       "1  0.044643  0.046627  0.058532  0.046627  0.044643  0.044643  "
      ]
     },
     "execution_count": 38,
     "metadata": {},
     "output_type": "execute_result"
    }
   ],
   "source": [
    "topic_dist_df.head(2)"
   ]
  },
  {
   "cell_type": "code",
   "execution_count": 39,
   "metadata": {},
   "outputs": [],
   "source": [
    "dates = pandas.read_csv('oil_news.csv')['Date']\n",
    "topic_dist_df = pandas.concat([dates, topic_dist_df], axis=1, sort=False)"
   ]
  },
  {
   "cell_type": "code",
   "execution_count": 40,
   "metadata": {},
   "outputs": [
    {
     "data": {
      "text/html": [
       "<div>\n",
       "<style scoped>\n",
       "    .dataframe tbody tr th:only-of-type {\n",
       "        vertical-align: middle;\n",
       "    }\n",
       "\n",
       "    .dataframe tbody tr th {\n",
       "        vertical-align: top;\n",
       "    }\n",
       "\n",
       "    .dataframe thead th {\n",
       "        text-align: right;\n",
       "    }\n",
       "</style>\n",
       "<table border=\"1\" class=\"dataframe\">\n",
       "  <thead>\n",
       "    <tr style=\"text-align: right;\">\n",
       "      <th></th>\n",
       "      <th>Date</th>\n",
       "      <th>0</th>\n",
       "      <th>1</th>\n",
       "      <th>2</th>\n",
       "      <th>3</th>\n",
       "      <th>4</th>\n",
       "      <th>5</th>\n",
       "      <th>6</th>\n",
       "      <th>7</th>\n",
       "      <th>8</th>\n",
       "      <th>...</th>\n",
       "      <th>10</th>\n",
       "      <th>11</th>\n",
       "      <th>12</th>\n",
       "      <th>13</th>\n",
       "      <th>14</th>\n",
       "      <th>15</th>\n",
       "      <th>16</th>\n",
       "      <th>17</th>\n",
       "      <th>18</th>\n",
       "      <th>19</th>\n",
       "    </tr>\n",
       "  </thead>\n",
       "  <tbody>\n",
       "    <tr>\n",
       "      <th>0</th>\n",
       "      <td>2014-01-02</td>\n",
       "      <td>0.043860</td>\n",
       "      <td>0.045809</td>\n",
       "      <td>0.043860</td>\n",
       "      <td>0.051657</td>\n",
       "      <td>0.043860</td>\n",
       "      <td>0.043860</td>\n",
       "      <td>0.043860</td>\n",
       "      <td>0.078947</td>\n",
       "      <td>0.043860</td>\n",
       "      <td>...</td>\n",
       "      <td>0.049708</td>\n",
       "      <td>0.051657</td>\n",
       "      <td>0.045809</td>\n",
       "      <td>0.057505</td>\n",
       "      <td>0.049708</td>\n",
       "      <td>0.059454</td>\n",
       "      <td>0.049708</td>\n",
       "      <td>0.043860</td>\n",
       "      <td>0.047758</td>\n",
       "      <td>0.043860</td>\n",
       "    </tr>\n",
       "    <tr>\n",
       "      <th>1</th>\n",
       "      <td>2014-01-02</td>\n",
       "      <td>0.044643</td>\n",
       "      <td>0.046627</td>\n",
       "      <td>0.046627</td>\n",
       "      <td>0.108135</td>\n",
       "      <td>0.048611</td>\n",
       "      <td>0.044643</td>\n",
       "      <td>0.044643</td>\n",
       "      <td>0.044643</td>\n",
       "      <td>0.044643</td>\n",
       "      <td>...</td>\n",
       "      <td>0.054563</td>\n",
       "      <td>0.044643</td>\n",
       "      <td>0.046627</td>\n",
       "      <td>0.050595</td>\n",
       "      <td>0.044643</td>\n",
       "      <td>0.046627</td>\n",
       "      <td>0.058532</td>\n",
       "      <td>0.046627</td>\n",
       "      <td>0.044643</td>\n",
       "      <td>0.044643</td>\n",
       "    </tr>\n",
       "  </tbody>\n",
       "</table>\n",
       "<p>2 rows × 21 columns</p>\n",
       "</div>"
      ],
      "text/plain": [
       "         Date         0         1         2         3         4         5  \\\n",
       "0  2014-01-02  0.043860  0.045809  0.043860  0.051657  0.043860  0.043860   \n",
       "1  2014-01-02  0.044643  0.046627  0.046627  0.108135  0.048611  0.044643   \n",
       "\n",
       "          6         7         8    ...           10        11        12  \\\n",
       "0  0.043860  0.078947  0.043860    ...     0.049708  0.051657  0.045809   \n",
       "1  0.044643  0.044643  0.044643    ...     0.054563  0.044643  0.046627   \n",
       "\n",
       "         13        14        15        16        17        18        19  \n",
       "0  0.057505  0.049708  0.059454  0.049708  0.043860  0.047758  0.043860  \n",
       "1  0.050595  0.044643  0.046627  0.058532  0.046627  0.044643  0.044643  \n",
       "\n",
       "[2 rows x 21 columns]"
      ]
     },
     "execution_count": 40,
     "metadata": {},
     "output_type": "execute_result"
    }
   ],
   "source": [
    "topic_dist_df.head(2)"
   ]
  },
  {
   "cell_type": "markdown",
   "metadata": {},
   "source": [
    "Now we will merge the WTI Crude Oil Prices from our exported historical data. We have more dates in that dataset than the range of the dates from our headlines. Hence, we will perform an inner join between them on the matching column 'Date'. "
   ]
  },
  {
   "cell_type": "code",
   "execution_count": 47,
   "metadata": {},
   "outputs": [],
   "source": [
    "wti_prices = pandas.read_csv('DCOILWTICO.csv')\n",
    "topic_prices = pandas.merge(topic_dist_df, wti_prices, on='Date')"
   ]
  },
  {
   "cell_type": "code",
   "execution_count": 48,
   "metadata": {},
   "outputs": [
    {
     "data": {
      "text/html": [
       "<div>\n",
       "<style scoped>\n",
       "    .dataframe tbody tr th:only-of-type {\n",
       "        vertical-align: middle;\n",
       "    }\n",
       "\n",
       "    .dataframe tbody tr th {\n",
       "        vertical-align: top;\n",
       "    }\n",
       "\n",
       "    .dataframe thead th {\n",
       "        text-align: right;\n",
       "    }\n",
       "</style>\n",
       "<table border=\"1\" class=\"dataframe\">\n",
       "  <thead>\n",
       "    <tr style=\"text-align: right;\">\n",
       "      <th></th>\n",
       "      <th>Date</th>\n",
       "      <th>0</th>\n",
       "      <th>1</th>\n",
       "      <th>2</th>\n",
       "      <th>3</th>\n",
       "      <th>4</th>\n",
       "      <th>5</th>\n",
       "      <th>6</th>\n",
       "      <th>7</th>\n",
       "      <th>8</th>\n",
       "      <th>...</th>\n",
       "      <th>11</th>\n",
       "      <th>12</th>\n",
       "      <th>13</th>\n",
       "      <th>14</th>\n",
       "      <th>15</th>\n",
       "      <th>16</th>\n",
       "      <th>17</th>\n",
       "      <th>18</th>\n",
       "      <th>19</th>\n",
       "      <th>DCOILWTICO</th>\n",
       "    </tr>\n",
       "  </thead>\n",
       "  <tbody>\n",
       "    <tr>\n",
       "      <th>0</th>\n",
       "      <td>2014-01-02</td>\n",
       "      <td>0.043860</td>\n",
       "      <td>0.045809</td>\n",
       "      <td>0.043860</td>\n",
       "      <td>0.051657</td>\n",
       "      <td>0.043860</td>\n",
       "      <td>0.043860</td>\n",
       "      <td>0.043860</td>\n",
       "      <td>0.078947</td>\n",
       "      <td>0.043860</td>\n",
       "      <td>...</td>\n",
       "      <td>0.051657</td>\n",
       "      <td>0.045809</td>\n",
       "      <td>0.057505</td>\n",
       "      <td>0.049708</td>\n",
       "      <td>0.059454</td>\n",
       "      <td>0.049708</td>\n",
       "      <td>0.043860</td>\n",
       "      <td>0.047758</td>\n",
       "      <td>0.043860</td>\n",
       "      <td>95.14</td>\n",
       "    </tr>\n",
       "    <tr>\n",
       "      <th>1</th>\n",
       "      <td>2014-01-02</td>\n",
       "      <td>0.044643</td>\n",
       "      <td>0.046627</td>\n",
       "      <td>0.046627</td>\n",
       "      <td>0.108135</td>\n",
       "      <td>0.048611</td>\n",
       "      <td>0.044643</td>\n",
       "      <td>0.044643</td>\n",
       "      <td>0.044643</td>\n",
       "      <td>0.044643</td>\n",
       "      <td>...</td>\n",
       "      <td>0.044643</td>\n",
       "      <td>0.046627</td>\n",
       "      <td>0.050595</td>\n",
       "      <td>0.044643</td>\n",
       "      <td>0.046627</td>\n",
       "      <td>0.058532</td>\n",
       "      <td>0.046627</td>\n",
       "      <td>0.044643</td>\n",
       "      <td>0.044643</td>\n",
       "      <td>95.14</td>\n",
       "    </tr>\n",
       "  </tbody>\n",
       "</table>\n",
       "<p>2 rows × 22 columns</p>\n",
       "</div>"
      ],
      "text/plain": [
       "         Date         0         1         2         3         4         5  \\\n",
       "0  2014-01-02  0.043860  0.045809  0.043860  0.051657  0.043860  0.043860   \n",
       "1  2014-01-02  0.044643  0.046627  0.046627  0.108135  0.048611  0.044643   \n",
       "\n",
       "          6         7         8     ...            11        12        13  \\\n",
       "0  0.043860  0.078947  0.043860     ...      0.051657  0.045809  0.057505   \n",
       "1  0.044643  0.044643  0.044643     ...      0.044643  0.046627  0.050595   \n",
       "\n",
       "         14        15        16        17        18        19  DCOILWTICO  \n",
       "0  0.049708  0.059454  0.049708  0.043860  0.047758  0.043860       95.14  \n",
       "1  0.044643  0.046627  0.058532  0.046627  0.044643  0.044643       95.14  \n",
       "\n",
       "[2 rows x 22 columns]"
      ]
     },
     "execution_count": 48,
     "metadata": {},
     "output_type": "execute_result"
    }
   ],
   "source": [
    "topic_prices.head(2)"
   ]
  },
  {
   "cell_type": "code",
   "execution_count": 54,
   "metadata": {},
   "outputs": [],
   "source": [
    "columns = ['Date'] + ['Topic {}'.format(i) for i in range(20)] + ['Price']\n",
    "topic_prices.columns = columns"
   ]
  },
  {
   "cell_type": "markdown",
   "metadata": {},
   "source": [
    "Let's save this to a file for easier analysis."
   ]
  },
  {
   "cell_type": "code",
   "execution_count": 55,
   "metadata": {},
   "outputs": [],
   "source": [
    "topic_prices.to_csv('WTI-LDA-TOPIC.csv', index=False)"
   ]
  },
  {
   "cell_type": "markdown",
   "metadata": {},
   "source": [
    "### Regression Model"
   ]
  },
  {
   "cell_type": "code",
   "execution_count": null,
   "metadata": {},
   "outputs": [],
   "source": []
  }
 ],
 "metadata": {
  "kernelspec": {
   "display_name": "Python 3",
   "language": "python",
   "name": "python3"
  },
  "language_info": {
   "codemirror_mode": {
    "name": "ipython",
    "version": 3
   },
   "file_extension": ".py",
   "mimetype": "text/x-python",
   "name": "python",
   "nbconvert_exporter": "python",
   "pygments_lexer": "ipython3",
   "version": "3.7.0"
  }
 },
 "nbformat": 4,
 "nbformat_minor": 2
}
