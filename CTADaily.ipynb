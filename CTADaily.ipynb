{
 "cells": [
  {
   "cell_type": "markdown",
   "metadata": {},
   "source": [
    "# Setup"
   ]
  },
  {
   "cell_type": "markdown",
   "metadata": {},
   "source": [
    "If you haven't already please install mallet. As that will be required to run the following notebook. There is also a back up alterative lda model we will allow usage of (LDA Multicore). This can be used by passing a different argument."
   ]
  },
  {
   "cell_type": "markdown",
   "metadata": {},
   "source": [
    "### Pre Processing"
   ]
  },
  {
   "cell_type": "code",
   "execution_count": 1,
   "metadata": {},
   "outputs": [],
   "source": [
    "# import nltk\n",
    "# nltk.download('stopwords')\n",
    "# nltk.download('wordnet')"
   ]
  },
  {
   "cell_type": "markdown",
   "metadata": {},
   "source": [
    "We have filtered all news headlines from Reuters from 2014 to 2016 by checking for the occurence of the word 'oil'. We then aggregate file corpus into a line corpus, provided as a CSV file ('oil_news.csv'). We have functions in our Python script that will read this in and perform the following pre-processing steps:\n",
    "\n",
    "- Remove Stop Words (NLTK) \n",
    "- Lower Case (Gensim) \n",
    "- Remove Punctuation (Gensim) \n",
    "- Remove Numbers (Gensim) \n",
    "- Stemmed/Lemmatized (NLTK) \n",
    "\n",
    "After this we use the bag of words approach and build up a corpus of pre-processed documents. This is all done by invoking the get_text_data() method."
   ]
  },
  {
   "cell_type": "code",
   "execution_count": 34,
   "metadata": {},
   "outputs": [],
   "source": [
    "import warnings\n",
    "warnings.filterwarnings(action='ignore', category=UserWarning, module='gensim')"
   ]
  },
  {
   "cell_type": "code",
   "execution_count": 2,
   "metadata": {},
   "outputs": [
    {
     "name": "stderr",
     "output_type": "stream",
     "text": [
      "C:\\Users\\Yash\\Anaconda3\\lib\\site-packages\\gensim\\utils.py:1212: UserWarning: detected Windows; aliasing chunkize to chunkize_serial\n",
      "  warnings.warn(\"detected Windows; aliasing chunkize to chunkize_serial\")\n"
     ]
    }
   ],
   "source": [
    "from CTADaily import get_text_data\n",
    "text_df, dictionary, corpus = get_text_data('WTI-NEWS.csv', 'Headline')"
   ]
  },
  {
   "cell_type": "code",
   "execution_count": 3,
   "metadata": {},
   "outputs": [
    {
     "data": {
      "text/html": [
       "<div>\n",
       "<style scoped>\n",
       "    .dataframe tbody tr th:only-of-type {\n",
       "        vertical-align: middle;\n",
       "    }\n",
       "\n",
       "    .dataframe tbody tr th {\n",
       "        vertical-align: top;\n",
       "    }\n",
       "\n",
       "    .dataframe thead th {\n",
       "        text-align: right;\n",
       "    }\n",
       "</style>\n",
       "<table border=\"1\" class=\"dataframe\">\n",
       "  <thead>\n",
       "    <tr style=\"text-align: right;\">\n",
       "      <th></th>\n",
       "      <th>Date</th>\n",
       "      <th>Headline</th>\n",
       "    </tr>\n",
       "  </thead>\n",
       "  <tbody>\n",
       "    <tr>\n",
       "      <th>0</th>\n",
       "      <td>2014-01-02</td>\n",
       "      <td>[brazil, oleo, gas, say, honor, oil, field, debt]</td>\n",
       "    </tr>\n",
       "    <tr>\n",
       "      <th>1</th>\n",
       "      <td>2014-01-02</td>\n",
       "      <td>[cabot, oil, gas, corpor, declar, dividend]</td>\n",
       "    </tr>\n",
       "  </tbody>\n",
       "</table>\n",
       "</div>"
      ],
      "text/plain": [
       "         Date                                           Headline\n",
       "0  2014-01-02  [brazil, oleo, gas, say, honor, oil, field, debt]\n",
       "1  2014-01-02        [cabot, oil, gas, corpor, declar, dividend]"
      ]
     },
     "execution_count": 3,
     "metadata": {},
     "output_type": "execute_result"
    }
   ],
   "source": [
    "text_df.head(2)"
   ]
  },
  {
   "cell_type": "markdown",
   "metadata": {},
   "source": [
    "### Building The Model"
   ]
  },
  {
   "cell_type": "code",
   "execution_count": 4,
   "metadata": {},
   "outputs": [],
   "source": [
    "from CTADaily import build_lda_model\n",
    "lda_model = build_lda_model('Mallet', corpus, dictionary, num_topics=10)"
   ]
  },
  {
   "cell_type": "markdown",
   "metadata": {},
   "source": [
    "If you were unable to install Mallet, there is an alternative model type you can use which is the LDA Multicore method from gensim. This can be simply passed into build_lda_model as follows:"
   ]
  },
  {
   "cell_type": "code",
   "execution_count": 5,
   "metadata": {},
   "outputs": [],
   "source": [
    "#lda_model = build_lda_model('Multicore', corpus, dictionary, num_topics=10)"
   ]
  },
  {
   "cell_type": "markdown",
   "metadata": {},
   "source": [
    "#### Optimizing Model by Coherence"
   ]
  },
  {
   "cell_type": "code",
   "execution_count": 6,
   "metadata": {},
   "outputs": [
    {
     "name": "stdout",
     "output_type": "stream",
     "text": [
      "0.37959492487006535\n"
     ]
    }
   ],
   "source": [
    "from gensim.models.coherencemodel import CoherenceModel\n",
    "from CTADaily import get_tokens \n",
    "\n",
    "tokens = get_tokens(text_df, 'Headline')\n",
    "\n",
    "cm = CoherenceModel(model=lda_model, corpus=corpus, texts=tokens, coherence='c_v')\n",
    "coherence = cm.get_coherence()\n",
    "print(coherence)"
   ]
  },
  {
   "cell_type": "markdown",
   "metadata": {},
   "source": [
    "We see quite a low coherence value of 0.38 for 20 topics. Let's try to optimise this."
   ]
  },
  {
   "cell_type": "code",
   "execution_count": 27,
   "metadata": {},
   "outputs": [
    {
     "name": "stdout",
     "output_type": "stream",
     "text": [
      "Building Model with 1 #Topics\n",
      "Coherence 0.1532535840128281\n",
      "Building Model with 2 #Topics\n",
      "Coherence 0.25021754159673515\n",
      "Building Model with 3 #Topics\n",
      "Coherence 0.3520933012191949\n",
      "Building Model with 4 #Topics\n",
      "Coherence 0.44989719375537823\n",
      "Building Model with 5 #Topics\n",
      "Coherence 0.43226272533534127\n",
      "Building Model with 6 #Topics\n",
      "Coherence 0.3983602067041176\n",
      "Building Model with 7 #Topics\n",
      "Coherence 0.3901022374425521\n",
      "Building Model with 8 #Topics\n",
      "Coherence 0.3732385538372965\n",
      "Building Model with 9 #Topics\n",
      "Coherence 0.3995953241000658\n"
     ]
    }
   ],
   "source": [
    "from CTADaily import get_coherence_scores\n",
    "models, scores = get_coherence_scores(tokens, corpus, dictionary, range(1, 10, 1))"
   ]
  },
  {
   "cell_type": "code",
   "execution_count": 28,
   "metadata": {},
   "outputs": [],
   "source": [
    "import matplotlib.pyplot as plt\n",
    "%matplotlib inline"
   ]
  },
  {
   "cell_type": "code",
   "execution_count": 29,
   "metadata": {},
   "outputs": [
    {
     "data": {
      "image/png": "[encoded data removed]",
      "text/plain": [
       "<Figure size 1500x600 with 1 Axes>"
      ]
     },
     "metadata": {},
     "output_type": "display_data"
    }
   ],
   "source": [
    "plt.style.use('dark_background')\n",
    "fig = plt.figure(figsize=(25, 10), dpi= 60)\n",
    "fig = plt.plot(range(1, 10, 1), scores)\n",
    "plt.xlabel(\"Number of Topics\")\n",
    "plt.ylabel(\"Coherence\")\n",
    "plt.show()"
   ]
  },
  {
   "cell_type": "markdown",
   "metadata": {},
   "source": [
    "#### Analysis"
   ]
  },
  {
   "cell_type": "markdown",
   "metadata": {},
   "source": [
    "Generally, we see that the coherence is quite low. There may multiple reasons for this. We require more training data, so that the topics could overlap and thus the coherence would become better with a lower number of topics. We may have also considered word n grams to further improve our LDA model coherence."
   ]
  },
  {
   "cell_type": "markdown",
   "metadata": {},
   "source": [
    "### Bigram and Trigram"
   ]
  },
  {
   "cell_type": "code",
   "execution_count": 105,
   "metadata": {},
   "outputs": [],
   "source": [
    "from gensim.models import Phrases\n",
    "from gensim.models.phrases import Phraser \n",
    "\n",
    "\n",
    "words = pandas.read_csv('WTI-NEWS.csv')\n",
    "bigram_phraser = Phraser(Phrases(tokens, min_count=1, threshold=2))"
   ]
  },
  {
   "cell_type": "code",
   "execution_count": 108,
   "metadata": {},
   "outputs": [
    {
     "name": "stdout",
     "output_type": "stream",
     "text": [
      "['global_market', 'stock', 'slide', 'stellar', 'oil_price', 'tumbl']\n"
     ]
    }
   ],
   "source": [
    "print(bigram_phraser[tokens[2]])"
   ]
  },
  {
   "cell_type": "markdown",
   "metadata": {},
   "source": [
    "#### Rebuild Corpus"
   ]
  },
  {
   "cell_type": "code",
   "execution_count": 40,
   "metadata": {},
   "outputs": [],
   "source": [
    "def make_bigrams(texts):\n",
    "    return [bigram_mod[doc] for doc in texts]\n",
    "\n",
    "def make_trigrams(texts):\n",
    "    return [trigram_mod[bigram_mod[doc]] for doc in texts]"
   ]
  },
  {
   "cell_type": "code",
   "execution_count": 71,
   "metadata": {},
   "outputs": [],
   "source": [
    "import gensim.corpora as corpora\n",
    "bigram = Phrases([\" \".join(words) for words in tokens], min_count=5, threshold=100)\n",
    "bigram\n",
    "bigram_mod = Phraser(bigram)\n",
    "\n",
    "bigrams = make_bigrams([[doc] for doc in [\" \".join(words) for words in tokens]])\n",
    "dictionary = corpora.Dictionary(bigrams)\n",
    "corpus = [dictionary.doc2bow(text) for text in bigrams]"
   ]
  },
  {
   "cell_type": "code",
   "execution_count": null,
   "metadata": {},
   "outputs": [],
   "source": []
  },
  {
   "cell_type": "code",
   "execution_count": null,
   "metadata": {},
   "outputs": [],
   "source": [
    "from CTADaily import get_coherence_scores\n",
    "models, scores = get_coherence_scores(bigrams, corpus, dictionary, range(1, 10, 1))"
   ]
  },
  {
   "cell_type": "markdown",
   "metadata": {},
   "source": [
    "### Regression Model"
   ]
  },
  {
   "cell_type": "markdown",
   "metadata": {},
   "source": [
    "We will now be able to get the topic distribution for each document. We want to use these probabilities as features for our regression, combined with the date the headline was published by Reuters. We will need to unpack the tuples, to remove the topic number and only give us the probability. We will do this for all columns before merging date"
   ]
  },
  {
   "cell_type": "code",
   "execution_count": 13,
   "metadata": {},
   "outputs": [],
   "source": [
    "import pandas\n",
    "lda_model = models[-1]\n",
    "topic_dist_df = pandas.DataFrame(lda_model[corpus])\n",
    "\n",
    "for column in topic_dist_df.columns:\n",
    "    topic_dist_df[column] = topic_dist_df[column].apply(lambda x : x[1])"
   ]
  },
  {
   "cell_type": "code",
   "execution_count": 14,
   "metadata": {},
   "outputs": [
    {
     "data": {
      "text/html": [
       "<div>\n",
       "<style scoped>\n",
       "    .dataframe tbody tr th:only-of-type {\n",
       "        vertical-align: middle;\n",
       "    }\n",
       "\n",
       "    .dataframe tbody tr th {\n",
       "        vertical-align: top;\n",
       "    }\n",
       "\n",
       "    .dataframe thead th {\n",
       "        text-align: right;\n",
       "    }\n",
       "</style>\n",
       "<table border=\"1\" class=\"dataframe\">\n",
       "  <thead>\n",
       "    <tr style=\"text-align: right;\">\n",
       "      <th></th>\n",
       "      <th>0</th>\n",
       "      <th>1</th>\n",
       "      <th>2</th>\n",
       "      <th>3</th>\n",
       "      <th>4</th>\n",
       "      <th>5</th>\n",
       "      <th>6</th>\n",
       "      <th>7</th>\n",
       "      <th>8</th>\n",
       "      <th>9</th>\n",
       "      <th>...</th>\n",
       "      <th>85</th>\n",
       "      <th>86</th>\n",
       "      <th>87</th>\n",
       "      <th>88</th>\n",
       "      <th>89</th>\n",
       "      <th>90</th>\n",
       "      <th>91</th>\n",
       "      <th>92</th>\n",
       "      <th>93</th>\n",
       "      <th>94</th>\n",
       "    </tr>\n",
       "  </thead>\n",
       "  <tbody>\n",
       "    <tr>\n",
       "      <th>0</th>\n",
       "      <td>0.026777</td>\n",
       "      <td>0.009234</td>\n",
       "      <td>0.009234</td>\n",
       "      <td>0.009234</td>\n",
       "      <td>0.013132</td>\n",
       "      <td>0.009234</td>\n",
       "      <td>0.009234</td>\n",
       "      <td>0.009234</td>\n",
       "      <td>0.009234</td>\n",
       "      <td>0.009234</td>\n",
       "      <td>...</td>\n",
       "      <td>0.009234</td>\n",
       "      <td>0.015082</td>\n",
       "      <td>0.009234</td>\n",
       "      <td>0.009234</td>\n",
       "      <td>0.011183</td>\n",
       "      <td>0.009234</td>\n",
       "      <td>0.009234</td>\n",
       "      <td>0.009234</td>\n",
       "      <td>0.009234</td>\n",
       "      <td>0.009234</td>\n",
       "    </tr>\n",
       "    <tr>\n",
       "      <th>1</th>\n",
       "      <td>0.009398</td>\n",
       "      <td>0.009398</td>\n",
       "      <td>0.009398</td>\n",
       "      <td>0.009398</td>\n",
       "      <td>0.009398</td>\n",
       "      <td>0.009398</td>\n",
       "      <td>0.009398</td>\n",
       "      <td>0.011383</td>\n",
       "      <td>0.009398</td>\n",
       "      <td>0.011383</td>\n",
       "      <td>...</td>\n",
       "      <td>0.013367</td>\n",
       "      <td>0.009398</td>\n",
       "      <td>0.009398</td>\n",
       "      <td>0.009398</td>\n",
       "      <td>0.009398</td>\n",
       "      <td>0.011383</td>\n",
       "      <td>0.009398</td>\n",
       "      <td>0.009398</td>\n",
       "      <td>0.009398</td>\n",
       "      <td>0.009398</td>\n",
       "    </tr>\n",
       "  </tbody>\n",
       "</table>\n",
       "<p>2 rows × 95 columns</p>\n",
       "</div>"
      ],
      "text/plain": [
       "         0         1         2         3         4         5         6   \\\n",
       "0  0.026777  0.009234  0.009234  0.009234  0.013132  0.009234  0.009234   \n",
       "1  0.009398  0.009398  0.009398  0.009398  0.009398  0.009398  0.009398   \n",
       "\n",
       "         7         8         9     ...           85        86        87  \\\n",
       "0  0.009234  0.009234  0.009234    ...     0.009234  0.015082  0.009234   \n",
       "1  0.011383  0.009398  0.011383    ...     0.013367  0.009398  0.009398   \n",
       "\n",
       "         88        89        90        91        92        93        94  \n",
       "0  0.009234  0.011183  0.009234  0.009234  0.009234  0.009234  0.009234  \n",
       "1  0.009398  0.009398  0.011383  0.009398  0.009398  0.009398  0.009398  \n",
       "\n",
       "[2 rows x 95 columns]"
      ]
     },
     "execution_count": 14,
     "metadata": {},
     "output_type": "execute_result"
    }
   ],
   "source": [
    "topic_dist_df.head(2)"
   ]
  },
  {
   "cell_type": "code",
   "execution_count": 16,
   "metadata": {},
   "outputs": [],
   "source": [
    "dates = pandas.read_csv('WTI-NEWS.csv')['Date']\n",
    "topic_dist_df = pandas.concat([dates, topic_dist_df], axis=1, sort=False)"
   ]
  },
  {
   "cell_type": "code",
   "execution_count": 17,
   "metadata": {},
   "outputs": [
    {
     "data": {
      "text/html": [
       "<div>\n",
       "<style scoped>\n",
       "    .dataframe tbody tr th:only-of-type {\n",
       "        vertical-align: middle;\n",
       "    }\n",
       "\n",
       "    .dataframe tbody tr th {\n",
       "        vertical-align: top;\n",
       "    }\n",
       "\n",
       "    .dataframe thead th {\n",
       "        text-align: right;\n",
       "    }\n",
       "</style>\n",
       "<table border=\"1\" class=\"dataframe\">\n",
       "  <thead>\n",
       "    <tr style=\"text-align: right;\">\n",
       "      <th></th>\n",
       "      <th>Date</th>\n",
       "      <th>0</th>\n",
       "      <th>1</th>\n",
       "      <th>2</th>\n",
       "      <th>3</th>\n",
       "      <th>4</th>\n",
       "      <th>5</th>\n",
       "      <th>6</th>\n",
       "      <th>7</th>\n",
       "      <th>8</th>\n",
       "      <th>...</th>\n",
       "      <th>85</th>\n",
       "      <th>86</th>\n",
       "      <th>87</th>\n",
       "      <th>88</th>\n",
       "      <th>89</th>\n",
       "      <th>90</th>\n",
       "      <th>91</th>\n",
       "      <th>92</th>\n",
       "      <th>93</th>\n",
       "      <th>94</th>\n",
       "    </tr>\n",
       "  </thead>\n",
       "  <tbody>\n",
       "    <tr>\n",
       "      <th>0</th>\n",
       "      <td>2014-01-02</td>\n",
       "      <td>0.026777</td>\n",
       "      <td>0.009234</td>\n",
       "      <td>0.009234</td>\n",
       "      <td>0.009234</td>\n",
       "      <td>0.013132</td>\n",
       "      <td>0.009234</td>\n",
       "      <td>0.009234</td>\n",
       "      <td>0.009234</td>\n",
       "      <td>0.009234</td>\n",
       "      <td>...</td>\n",
       "      <td>0.009234</td>\n",
       "      <td>0.015082</td>\n",
       "      <td>0.009234</td>\n",
       "      <td>0.009234</td>\n",
       "      <td>0.011183</td>\n",
       "      <td>0.009234</td>\n",
       "      <td>0.009234</td>\n",
       "      <td>0.009234</td>\n",
       "      <td>0.009234</td>\n",
       "      <td>0.009234</td>\n",
       "    </tr>\n",
       "    <tr>\n",
       "      <th>1</th>\n",
       "      <td>2014-01-02</td>\n",
       "      <td>0.009398</td>\n",
       "      <td>0.009398</td>\n",
       "      <td>0.009398</td>\n",
       "      <td>0.009398</td>\n",
       "      <td>0.009398</td>\n",
       "      <td>0.009398</td>\n",
       "      <td>0.009398</td>\n",
       "      <td>0.011383</td>\n",
       "      <td>0.009398</td>\n",
       "      <td>...</td>\n",
       "      <td>0.013367</td>\n",
       "      <td>0.009398</td>\n",
       "      <td>0.009398</td>\n",
       "      <td>0.009398</td>\n",
       "      <td>0.009398</td>\n",
       "      <td>0.011383</td>\n",
       "      <td>0.009398</td>\n",
       "      <td>0.009398</td>\n",
       "      <td>0.009398</td>\n",
       "      <td>0.009398</td>\n",
       "    </tr>\n",
       "  </tbody>\n",
       "</table>\n",
       "<p>2 rows × 96 columns</p>\n",
       "</div>"
      ],
      "text/plain": [
       "         Date         0         1         2         3         4         5  \\\n",
       "0  2014-01-02  0.026777  0.009234  0.009234  0.009234  0.013132  0.009234   \n",
       "1  2014-01-02  0.009398  0.009398  0.009398  0.009398  0.009398  0.009398   \n",
       "\n",
       "          6         7         8    ...           85        86        87  \\\n",
       "0  0.009234  0.009234  0.009234    ...     0.009234  0.015082  0.009234   \n",
       "1  0.009398  0.011383  0.009398    ...     0.013367  0.009398  0.009398   \n",
       "\n",
       "         88        89        90        91        92        93        94  \n",
       "0  0.009234  0.011183  0.009234  0.009234  0.009234  0.009234  0.009234  \n",
       "1  0.009398  0.009398  0.011383  0.009398  0.009398  0.009398  0.009398  \n",
       "\n",
       "[2 rows x 96 columns]"
      ]
     },
     "execution_count": 17,
     "metadata": {},
     "output_type": "execute_result"
    }
   ],
   "source": [
    "topic_dist_df.head(2)"
   ]
  },
  {
   "cell_type": "markdown",
   "metadata": {},
   "source": [
    "Now we will merge the WTI Crude Oil Prices from our exported historical data. We have more dates in that dataset than the range of the dates from our headlines. Hence, we will perform an inner join between them on the matching column 'Date'. "
   ]
  },
  {
   "cell_type": "code",
   "execution_count": 18,
   "metadata": {},
   "outputs": [],
   "source": [
    "wti_prices = pandas.read_csv('DCOILWTICO.csv')\n",
    "topic_prices = pandas.merge(topic_dist_df, wti_prices, on='Date')"
   ]
  },
  {
   "cell_type": "markdown",
   "metadata": {},
   "source": [
    "##### topic_prices.head(2)"
   ]
  },
  {
   "cell_type": "code",
   "execution_count": 21,
   "metadata": {},
   "outputs": [],
   "source": [
    "columns = ['Date'] + ['Topic {}'.format(i) for i in range(95)] + ['Price']\n",
    "topic_prices.columns = columns"
   ]
  },
  {
   "cell_type": "markdown",
   "metadata": {},
   "source": [
    "Let's save this to a file for easier analysis."
   ]
  },
  {
   "cell_type": "code",
   "execution_count": 24,
   "metadata": {},
   "outputs": [],
   "source": [
    "topic_prices.to_csv('WTI-LDA-TOPIC.csv', index=False)"
   ]
  },
  {
   "cell_type": "code",
   "execution_count": null,
   "metadata": {},
   "outputs": [],
   "source": []
  },
  {
   "cell_type": "code",
   "execution_count": null,
   "metadata": {},
   "outputs": [],
   "source": []
  },
  {
   "cell_type": "code",
   "execution_count": null,
   "metadata": {},
   "outputs": [],
   "source": []
  }
 ],
 "metadata": {
  "kernelspec": {
   "display_name": "Python 3",
   "language": "python",
   "name": "python3"
  },
  "language_info": {
   "codemirror_mode": {
    "name": "ipython",
    "version": 3
   },
   "file_extension": ".py",
   "mimetype": "text/x-python",
   "name": "python",
   "nbconvert_exporter": "python",
   "pygments_lexer": "ipython3",
   "version": "3.7.0"
  }
 },
 "nbformat": 4,
 "nbformat_minor": 2
}
